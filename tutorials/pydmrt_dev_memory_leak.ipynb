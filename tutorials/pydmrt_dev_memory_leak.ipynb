{
 "cells": [
  {
   "cell_type": "code",
   "execution_count": 1,
   "metadata": {
    "ExecuteTime": {
     "end_time": "2020-04-10T20:28:41.254143Z",
     "start_time": "2020-04-10T20:28:41.249574Z"
    }
   },
   "outputs": [],
   "source": [
    "import sys\n",
    "sys.path.append('../../dmrt/')\n",
    "import gc"
   ]
  },
  {
   "cell_type": "code",
   "execution_count": 2,
   "metadata": {
    "ExecuteTime": {
     "end_time": "2020-04-10T20:28:42.504342Z",
     "start_time": "2020-04-10T20:28:41.722243Z"
    }
   },
   "outputs": [
    {
     "data": {
      "image/png": "[encoded data removed]",
      "text/plain": [
       "<Figure size 432x288 with 1 Axes>"
      ]
     },
     "metadata": {
      "needs_background": "light"
     },
     "output_type": "display_data"
    }
   ],
   "source": [
    "import diffTools\n",
    "import numpy as np\n",
    "\n",
    "import gc"
   ]
  },
  {
   "cell_type": "code",
   "execution_count": 3,
   "metadata": {
    "ExecuteTime": {
     "end_time": "2020-04-10T20:28:44.371527Z",
     "start_time": "2020-04-10T20:28:43.039421Z"
    }
   },
   "outputs": [],
   "source": [
    "# create and clean up numpy array\n",
    "\n",
    "length=50000000\n",
    "inp = np.random.rand(length,2)*4-2"
   ]
  },
  {
   "cell_type": "code",
   "execution_count": 4,
   "metadata": {
    "ExecuteTime": {
     "end_time": "2020-04-10T20:28:44.378336Z",
     "start_time": "2020-04-10T20:28:44.373317Z"
    }
   },
   "outputs": [],
   "source": [
    "del inp"
   ]
  },
  {
   "cell_type": "code",
   "execution_count": 25,
   "metadata": {
    "ExecuteTime": {
     "end_time": "2020-04-10T20:29:17.105598Z",
     "start_time": "2020-04-10T20:29:17.101814Z"
    }
   },
   "outputs": [],
   "source": [
    "difft = diffTools.DiffTools()"
   ]
  },
  {
   "cell_type": "code",
   "execution_count": 26,
   "metadata": {
    "ExecuteTime": {
     "end_time": "2020-04-10T20:29:20.173661Z",
     "start_time": "2020-04-10T20:29:17.305428Z"
    }
   },
   "outputs": [
    {
     "name": "stdout",
     "output_type": "stream",
     "text": [
      "[[ 0.00000000e+00  7.51021570e-01]\n",
      " [ 1.00000000e-04 -1.17131799e-01]\n",
      " [ 2.00000000e-04  2.21739319e-01]\n",
      " ...\n",
      " [ 9.99999700e+02 -7.82711713e-01]\n",
      " [ 9.99999800e+02  1.33746486e+00]\n",
      " [ 9.99999900e+02 -4.53613800e-01]]\n",
      "[-2. -1.  0.  1.  2.] [[        nan         nan         nan         nan         nan]\n",
      " [        nan  0.                 nan -0.00071301         nan]\n",
      " [        nan         nan  0.                 nan         nan]\n",
      " [        nan  0.00071301         nan  0.                 nan]\n",
      " [        nan         nan         nan         nan         nan]] [[       0        0        0        0        0]\n",
      " [       0  7508228        0  7503000        0]\n",
      " [       0        0 10002160        0        0]\n",
      " [       0  7503000        0  7497780        0]\n",
      " [       0        0        0        0        0]] [[      0       0       0       0       0]\n",
      " [      0 3754114       0 1251148       0]\n",
      " [      0       0 5001080       0       0]\n",
      " [      0 1251148       0 3748890       0]\n",
      " [      0       0       0       0       0]]\n",
      "finish\n"
     ]
    }
   ],
   "source": [
    "length=10000000\n",
    "inp = np.random.rand(length,2)*4-2\n",
    "inp[:,0] = np.arange(length)*0.0001\n",
    "print(inp)\n",
    "dists,tms,cts,errs,upts,distro,tpdistro = difft.compute(inp, mode='rtcrossdist',radii=[-2,-1,0,1,2],verb=True)\n",
    "print(dists,tms,cts,upts)\n",
    "print(\"finish\")"
   ]
  },
  {
   "cell_type": "code",
   "execution_count": 27,
   "metadata": {
    "ExecuteTime": {
     "end_time": "2020-04-10T20:29:20.181041Z",
     "start_time": "2020-04-10T20:29:20.176356Z"
    }
   },
   "outputs": [
    {
     "name": "stdout",
     "output_type": "stream",
     "text": [
      "test\n",
      "2\n"
     ]
    }
   ],
   "source": [
    "print(\"test\")\n",
    "print(sys.getrefcount(inp))"
   ]
  },
  {
   "cell_type": "code",
   "execution_count": 28,
   "metadata": {
    "ExecuteTime": {
     "end_time": "2020-04-10T20:29:20.194519Z",
     "start_time": "2020-04-10T20:29:20.183824Z"
    }
   },
   "outputs": [],
   "source": [
    "del difft"
   ]
  },
  {
   "cell_type": "code",
   "execution_count": 29,
   "metadata": {
    "ExecuteTime": {
     "end_time": "2020-04-10T20:29:20.386604Z",
     "start_time": "2020-04-10T20:29:20.197979Z"
    }
   },
   "outputs": [
    {
     "data": {
      "text/plain": [
       "100"
      ]
     },
     "execution_count": 29,
     "metadata": {},
     "output_type": "execute_result"
    }
   ],
   "source": [
    "del inp,dists,tms,cts,errs,upts,distro,tpdistro\n",
    "gc.collect()"
   ]
  },
  {
   "cell_type": "code",
   "execution_count": 17,
   "metadata": {
    "ExecuteTime": {
     "end_time": "2020-04-10T18:00:03.688485Z",
     "start_time": "2020-04-10T18:00:02.948819Z"
    }
   },
   "outputs": [
    {
     "name": "stdout",
     "output_type": "stream",
     "text": [
      "Partition of a set of 514876 objects. Total size = 66146290 bytes.\n",
      " Index  Count   %     Size   % Cumulative  % Kind (class / dict of class)\n",
      "     0 149890  29 21334135  32  21334135  32 str\n",
      "     1 123933  24  9119392  14  30453527  46 tuple\n",
      "     2  34047   7  6050786   9  36504313  55 types.CodeType\n",
      "     3  67084  13  5472918   8  41977231  63 bytes\n",
      "     4  31771   6  4320856   7  46298087  70 function\n",
      "     5   3661   1  3646112   6  49944199  76 type\n",
      "     6  10155   2  3470512   5  53414711  81 dict (no owner)\n",
      "     7   1487   0  2310224   3  55724935  84 dict of module\n",
      "     8   3661   1  1939752   3  57664687  87 dict of type\n",
      "     9   6930   1   831504   1  58496191  88 list\n",
      "<1278 more rows. Type e.g. '_.more' to view.>\n"
     ]
    }
   ],
   "source": [
    "from guppy import hpy\n",
    "h = hpy()\n",
    "print(h.heap())"
   ]
  },
  {
   "cell_type": "code",
   "execution_count": null,
   "metadata": {},
   "outputs": [],
   "source": []
  }
 ],
 "metadata": {
  "kernelspec": {
   "display_name": "Python 3",
   "language": "python",
   "name": "python3"
  },
  "language_info": {
   "codemirror_mode": {
    "name": "ipython",
    "version": 3
   },
   "file_extension": ".py",
   "mimetype": "text/x-python",
   "name": "python",
   "nbconvert_exporter": "python",
   "pygments_lexer": "ipython3",
   "version": "3.8.2"
  },
  "toc": {
   "colors": {
    "hover_highlight": "#DAA520",
    "running_highlight": "#FF0000",
    "selected_highlight": "#FFD700"
   },
   "moveMenuLeft": true,
   "nav_menu": {
    "height": "4px",
    "width": "254px"
   },
   "navigate_menu": true,
   "number_sections": true,
   "sideBar": true,
   "threshold": 4,
   "toc_cell": false,
   "toc_section_display": "block",
   "toc_window_display": false
  },
  "varInspector": {
   "cols": {
    "lenName": 16,
    "lenType": 16,
    "lenVar": 40
   },
   "kernels_config": {
    "python": {
     "delete_cmd_postfix": "",
     "delete_cmd_prefix": "del ",
     "library": "var_list.py",
     "varRefreshCmd": "print(var_dic_list())"
    },
    "r": {
     "delete_cmd_postfix": ") ",
     "delete_cmd_prefix": "rm(",
     "library": "var_list.r",
     "varRefreshCmd": "cat(var_dic_list()) "
    }
   },
   "position": {
    "height": "546px",
    "left": "6px",
    "right": "20px",
    "top": "136px",
    "width": "355px"
   },
   "types_to_exclude": [
    "module",
    "function",
    "builtin_function_or_method",
    "instance",
    "_Feature"
   ],
   "window_display": false
  }
 },
 "nbformat": 4,
 "nbformat_minor": 2
}
