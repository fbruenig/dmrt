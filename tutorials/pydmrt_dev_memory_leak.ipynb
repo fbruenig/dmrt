{
 "cells": [
  {
   "cell_type": "code",
   "execution_count": 1,
   "metadata": {
    "ExecuteTime": {
     "end_time": "2020-04-10T17:47:32.563795Z",
     "start_time": "2020-04-10T17:47:32.557775Z"
    }
   },
   "outputs": [],
   "source": [
    "import sys\n",
    "sys.path.append('../../dmrt/')\n",
    "import gc"
   ]
  },
  {
   "cell_type": "code",
   "execution_count": 2,
   "metadata": {
    "ExecuteTime": {
     "end_time": "2020-04-10T17:47:33.161000Z",
     "start_time": "2020-04-10T17:47:32.873919Z"
    }
   },
   "outputs": [],
   "source": [
    "import diffTools\n",
    "import numpy as np\n",
    "\n",
    "import gc"
   ]
  },
  {
   "cell_type": "code",
   "execution_count": 3,
   "metadata": {
    "ExecuteTime": {
     "end_time": "2020-04-10T17:47:34.155232Z",
     "start_time": "2020-04-10T17:47:33.354719Z"
    }
   },
   "outputs": [],
   "source": [
    "# create and clean up numpy array\n",
    "\n",
    "length=50000000\n",
    "inp = np.random.rand(length,2)*4-2"
   ]
  },
  {
   "cell_type": "code",
   "execution_count": 4,
   "metadata": {
    "ExecuteTime": {
     "end_time": "2020-04-10T17:47:34.359201Z",
     "start_time": "2020-04-10T17:47:34.356550Z"
    }
   },
   "outputs": [],
   "source": [
    "del inp"
   ]
  },
  {
   "cell_type": "code",
   "execution_count": 5,
   "metadata": {
    "ExecuteTime": {
     "end_time": "2020-04-10T17:47:35.229401Z",
     "start_time": "2020-04-10T17:47:35.227734Z"
    }
   },
   "outputs": [],
   "source": [
    "difft = diffTools.DiffTools()"
   ]
  },
  {
   "cell_type": "code",
   "execution_count": 6,
   "metadata": {
    "ExecuteTime": {
     "end_time": "2020-04-10T17:47:38.888348Z",
     "start_time": "2020-04-10T17:47:37.062008Z"
    }
   },
   "outputs": [
    {
     "name": "stdout",
     "output_type": "stream",
     "text": [
      "[[ 0.00000000e+00  1.35774324e+00]\n",
      " [ 1.00000000e-04 -1.43908583e+00]\n",
      " [ 2.00000000e-04  1.87889965e+00]\n",
      " ...\n",
      " [ 9.99999700e+02  7.78024555e-01]\n",
      " [ 9.99999800e+02 -2.54153143e-01]\n",
      " [ 9.99999900e+02 -4.81374323e-01]]\n",
      "[-2. -1.  0.  1.  2.] [[        nan         nan         nan         nan         nan]\n",
      " [        nan  0.                 nan -0.00071355         nan]\n",
      " [        nan         nan  0.                 nan         nan]\n",
      " [        nan  0.00071355         nan  0.                 nan]\n",
      " [        nan         nan         nan         nan         nan]] [[      0       0       0       0       0]\n",
      " [      0 7495066       0 7498509       0]\n",
      " [      0       0 9995696       0       0]\n",
      " [      0 7498509       0 7501956       0]\n",
      " [      0       0       0       0       0]] [[      0       0       0       0       0]\n",
      " [      0 3747533       0 1249747       0]\n",
      " [      0       0 4997848       0       0]\n",
      " [      0 1249747       0 3750978       0]\n",
      " [      0       0       0       0       0]]\n",
      "finish\n"
     ]
    },
    {
     "name": "stderr",
     "output_type": "stream",
     "text": [
      "../../dmrt/diffTools.py:41: RuntimeWarning: invalid value encountered in true_divide\n",
      "  tms = tms/cts\n",
      "../../dmrt/diffTools.py:42: RuntimeWarning: invalid value encountered in true_divide\n",
      "  errs = np.sqrt(wars)/cts\n"
     ]
    }
   ],
   "source": [
    "length=10000000\n",
    "inp = np.random.rand(length,2)*4-2\n",
    "inp[:,0] = np.arange(length)*0.0001\n",
    "print(inp)\n",
    "dists,tms,cts,errs,upts,distro,tpdistro = difft.compute(inp, mode='rtcrossdist',radii=[-2,-1,0,1,2],verb=True)\n",
    "print(dists,tms,cts,upts)\n",
    "print(\"finish\")"
   ]
  },
  {
   "cell_type": "code",
   "execution_count": null,
   "metadata": {
    "ExecuteTime": {
     "start_time": "2020-04-10T17:47:38.109Z"
    }
   },
   "outputs": [],
   "source": [
    "print(\"test\")\n",
    "print(sys.getrefcount(tpdistro))"
   ]
  },
  {
   "cell_type": "code",
   "execution_count": null,
   "metadata": {
    "ExecuteTime": {
     "start_time": "2020-04-10T17:47:48.512Z"
    }
   },
   "outputs": [],
   "source": [
    "from guppy import hpy\n",
    "h = hpy()\n",
    "print(h.heap())"
   ]
  },
  {
   "cell_type": "code",
   "execution_count": 9,
   "metadata": {
    "ExecuteTime": {
     "end_time": "2020-04-10T17:21:03.136758Z",
     "start_time": "2020-04-10T17:21:03.135178Z"
    }
   },
   "outputs": [],
   "source": [
    "del difft"
   ]
  },
  {
   "cell_type": "code",
   "execution_count": 10,
   "metadata": {
    "ExecuteTime": {
     "end_time": "2020-04-10T17:21:03.439625Z",
     "start_time": "2020-04-10T17:21:03.137991Z"
    }
   },
   "outputs": [
    {
     "data": {
      "text/plain": [
       "5624"
      ]
     },
     "execution_count": 10,
     "metadata": {},
     "output_type": "execute_result"
    }
   ],
   "source": [
    "del inp,dists,tms,cts,errs,upts,distro,tpdistro\n",
    "gc.collect()"
   ]
  },
  {
   "cell_type": "code",
   "execution_count": 11,
   "metadata": {
    "ExecuteTime": {
     "end_time": "2020-04-10T17:21:03.851586Z",
     "start_time": "2020-04-10T17:21:03.440969Z"
    }
   },
   "outputs": [
    {
     "name": "stdout",
     "output_type": "stream",
     "text": [
      "Partition of a set of 486326 objects. Total size = 58971675 bytes.\n",
      " Index  Count   %     Size   % Cumulative  % Kind (class / dict of class)\n",
      "     0 149262  31 18799355  32  18799355  32 str\n",
      "     1 128922  27 10080520  17  28879875  49 tuple\n",
      "     2  57362  12  4708103   8  33587978  57 bytes\n",
      "     3  29075   6  4209936   7  37797914  64 types.CodeType\n",
      "     4  26525   5  3607400   6  41405314  70 function\n",
      "     5   3069   1  2998848   5  44404162  75 type\n",
      "     6   5660   1  2325352   4  46729514  79 dict (no owner)\n",
      "     7   1235   0  2022392   3  48751906  83 dict of module\n",
      "     8   3069   1  1686408   3  50438314  86 dict of type\n",
      "     9   2866   1  1054688   2  51493002  87 dict of matplotlib.font_manager.FontEntry\n",
      "<1151 more rows. Type e.g. '_.more' to view.>\n"
     ]
    }
   ],
   "source": [
    "from guppy import hpy\n",
    "h = hpy()\n",
    "print(h.heap())"
   ]
  },
  {
   "cell_type": "code",
   "execution_count": null,
   "metadata": {},
   "outputs": [],
   "source": []
  }
 ],
 "metadata": {
  "kernelspec": {
   "display_name": "Python 3",
   "language": "python",
   "name": "python3"
  },
  "language_info": {
   "codemirror_mode": {
    "name": "ipython",
    "version": 3
   },
   "file_extension": ".py",
   "mimetype": "text/x-python",
   "name": "python",
   "nbconvert_exporter": "python",
   "pygments_lexer": "ipython3",
   "version": "3.7.3"
  },
  "toc": {
   "colors": {
    "hover_highlight": "#DAA520",
    "running_highlight": "#FF0000",
    "selected_highlight": "#FFD700"
   },
   "moveMenuLeft": true,
   "nav_menu": {
    "height": "4px",
    "width": "254px"
   },
   "navigate_menu": true,
   "number_sections": true,
   "sideBar": true,
   "threshold": 4,
   "toc_cell": false,
   "toc_section_display": "block",
   "toc_window_display": false
  },
  "varInspector": {
   "cols": {
    "lenName": 16,
    "lenType": 16,
    "lenVar": 40
   },
   "kernels_config": {
    "python": {
     "delete_cmd_postfix": "",
     "delete_cmd_prefix": "del ",
     "library": "var_list.py",
     "varRefreshCmd": "print(var_dic_list())"
    },
    "r": {
     "delete_cmd_postfix": ") ",
     "delete_cmd_prefix": "rm(",
     "library": "var_list.r",
     "varRefreshCmd": "cat(var_dic_list()) "
    }
   },
   "position": {
    "height": "546px",
    "left": "6px",
    "right": "20px",
    "top": "136px",
    "width": "355px"
   },
   "types_to_exclude": [
    "module",
    "function",
    "builtin_function_or_method",
    "instance",
    "_Feature"
   ],
   "window_display": false
  }
 },
 "nbformat": 4,
 "nbformat_minor": 2
}
