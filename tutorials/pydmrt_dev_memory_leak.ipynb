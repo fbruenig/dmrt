{
 "cells": [
  {
   "cell_type": "code",
   "execution_count": 1,
   "metadata": {
    "ExecuteTime": {
     "end_time": "2018-08-16T17:46:14.938218Z",
     "start_time": "2018-08-16T17:46:14.932848Z"
    }
   },
   "outputs": [],
   "source": [
    "import sys\n",
    "sys.path.append('../../dmrt/')"
   ]
  },
  {
   "cell_type": "code",
   "execution_count": 2,
   "metadata": {
    "ExecuteTime": {
     "end_time": "2018-08-16T17:46:16.288283Z",
     "start_time": "2018-08-16T17:46:15.329095Z"
    }
   },
   "outputs": [],
   "source": [
    "import diffTools\n",
    "import numpy as np"
   ]
  },
  {
   "cell_type": "code",
   "execution_count": 3,
   "metadata": {
    "ExecuteTime": {
     "end_time": "2018-08-16T17:46:16.293591Z",
     "start_time": "2018-08-16T17:46:16.290930Z"
    }
   },
   "outputs": [],
   "source": [
    "difft = diffTools.DiffTools()"
   ]
  },
  {
   "cell_type": "code",
   "execution_count": 4,
   "metadata": {
    "ExecuteTime": {
     "end_time": "2018-08-16T17:46:18.730976Z",
     "start_time": "2018-08-16T17:46:16.975121Z"
    }
   },
   "outputs": [
    {
     "name": "stdout",
     "output_type": "stream",
     "text": [
      "[[ 0.00000000e+00 -1.73605006e+00]\n",
      " [ 1.00000000e-04 -1.54814925e+00]\n",
      " [ 2.00000000e-04 -4.72722405e-01]\n",
      " ...\n",
      " [ 9.99999700e+02  1.57213192e+00]\n",
      " [ 9.99999800e+02  1.11421756e+00]\n",
      " [ 9.99999900e+02 -1.22750154e+00]]\n",
      "[-2. -1.  0.  1.  2.] [[        nan         nan         nan         nan         nan]\n",
      " [        nan  0.                 nan -0.00071497         nan]\n",
      " [        nan         nan  0.                 nan         nan]\n",
      " [        nan  0.00071497         nan  0.                 nan]\n",
      " [        nan         nan         nan         nan         nan]] [[      0       0       0       0       0]\n",
      " [      0 3745708       0 3746857       0]\n",
      " [      0       0 4994744       0       0]\n",
      " [      0 3746857       0 3748008       0]\n",
      " [      0       0       0       0       0]] [[      0       0       0       0       0]\n",
      " [      0 1872854       0  623950       0]\n",
      " [      0       0 2497372       0       0]\n",
      " [      0  623950       0 1874004       0]\n",
      " [      0       0       0       0       0]]\n"
     ]
    },
    {
     "name": "stderr",
     "output_type": "stream",
     "text": [
      "../../dmrt/diffTools.py:38: RuntimeWarning: invalid value encountered in true_divide\n",
      "  tms = tms/cts*2 #make them RTT again\n"
     ]
    }
   ],
   "source": [
    "length=10000000\n",
    "inp = np.random.rand(length,2)*4-2\n",
    "inp[:,0] = np.arange(length)*0.0001\n",
    "print(inp)\n",
    "dists,tms,cts,upts,distro = difft.compute(inp, mode='rtcrossdist',radii=[-2,-1,0,1,2],verb=True)\n",
    "print(dists,tms,cts,upts)"
   ]
  },
  {
   "cell_type": "code",
   "execution_count": 6,
   "metadata": {
    "ExecuteTime": {
     "end_time": "2018-08-16T17:46:28.646690Z",
     "start_time": "2018-08-16T17:46:28.533040Z"
    }
   },
   "outputs": [
    {
     "ename": "NameError",
     "evalue": "name 'difft' is not defined",
     "output_type": "error",
     "traceback": [
      "\u001b[0;31m---------------------------------------------------------------------------\u001b[0m",
      "\u001b[0;31mNameError\u001b[0m                                 Traceback (most recent call last)",
      "\u001b[0;32m<ipython-input-6-b4a288490f03>\u001b[0m in \u001b[0;36m<module>\u001b[0;34m()\u001b[0m\n\u001b[0;32m----> 1\u001b[0;31m \u001b[0;32mdel\u001b[0m \u001b[0mdifft\u001b[0m\u001b[0;34m\u001b[0m\u001b[0m\n\u001b[0m",
      "\u001b[0;31mNameError\u001b[0m: name 'difft' is not defined"
     ]
    }
   ],
   "source": [
    "del difft"
   ]
  },
  {
   "cell_type": "code",
   "execution_count": 7,
   "metadata": {
    "ExecuteTime": {
     "end_time": "2018-08-16T17:46:29.448791Z",
     "start_time": "2018-08-16T17:46:29.434124Z"
    }
   },
   "outputs": [],
   "source": [
    "del inp, dists,tms,cts,upts,distro"
   ]
  },
  {
   "cell_type": "code",
   "execution_count": null,
   "metadata": {
    "collapsed": true
   },
   "outputs": [],
   "source": []
  }
 ],
 "metadata": {
  "kernelspec": {
   "display_name": "Python 3",
   "language": "python",
   "name": "python3"
  },
  "language_info": {
   "codemirror_mode": {
    "name": "ipython",
    "version": 3
   },
   "file_extension": ".py",
   "mimetype": "text/x-python",
   "name": "python",
   "nbconvert_exporter": "python",
   "pygments_lexer": "ipython3",
   "version": "3.7.0"
  },
  "toc": {
   "colors": {
    "hover_highlight": "#DAA520",
    "running_highlight": "#FF0000",
    "selected_highlight": "#FFD700"
   },
   "moveMenuLeft": true,
   "nav_menu": {
    "height": "4px",
    "width": "254px"
   },
   "navigate_menu": true,
   "number_sections": true,
   "sideBar": true,
   "threshold": 4,
   "toc_cell": false,
   "toc_section_display": "block",
   "toc_window_display": false
  },
  "varInspector": {
   "cols": {
    "lenName": 16,
    "lenType": 16,
    "lenVar": 40
   },
   "kernels_config": {
    "python": {
     "delete_cmd_postfix": "",
     "delete_cmd_prefix": "del ",
     "library": "var_list.py",
     "varRefreshCmd": "print(var_dic_list())"
    },
    "r": {
     "delete_cmd_postfix": ") ",
     "delete_cmd_prefix": "rm(",
     "library": "var_list.r",
     "varRefreshCmd": "cat(var_dic_list()) "
    }
   },
   "position": {
    "height": "546px",
    "left": "1544px",
    "right": "20px",
    "top": "120px",
    "width": "355px"
   },
   "types_to_exclude": [
    "module",
    "function",
    "builtin_function_or_method",
    "instance",
    "_Feature"
   ],
   "window_display": true
  }
 },
 "nbformat": 4,
 "nbformat_minor": 2
}
