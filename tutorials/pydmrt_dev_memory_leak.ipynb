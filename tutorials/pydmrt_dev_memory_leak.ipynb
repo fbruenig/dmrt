{
 "cells": [
  {
   "cell_type": "code",
   "execution_count": 1,
   "metadata": {
    "collapsed": true
   },
   "outputs": [],
   "source": [
    "import sys\n",
    "sys.path.append('../../dmrt/')"
   ]
  },
  {
   "cell_type": "code",
   "execution_count": 2,
   "metadata": {
    "collapsed": true
   },
   "outputs": [],
   "source": [
    "import diffTools\n",
    "import numpy as np"
   ]
  },
  {
   "cell_type": "code",
   "execution_count": 3,
   "metadata": {
    "collapsed": false
   },
   "outputs": [],
   "source": [
    "difft = diffTools.DiffTools()"
   ]
  },
  {
   "cell_type": "code",
   "execution_count": 4,
   "metadata": {
    "collapsed": false
   },
   "outputs": [
    {
     "name": "stdout",
     "output_type": "stream",
     "text": [
      "[[ 0.00000000e+00 -1.17138070e+00]\n",
      " [ 1.00000000e-04  8.72198720e-01]\n",
      " [ 2.00000000e-04  1.47554767e+00]\n",
      " ...\n",
      " [ 9.99999700e+02 -1.92378199e-01]\n",
      " [ 9.99999800e+02  1.71055098e+00]\n",
      " [ 9.99999900e+02  1.34265627e+00]]\n",
      "[-2. -1.  0.  1.  2.] [[        nan         nan         nan         nan         nan]\n",
      " [        nan  0.                 nan -0.00071342         nan]\n",
      " [        nan         nan  0.                 nan         nan]\n",
      " [        nan  0.00071342         nan  0.                 nan]\n",
      " [        nan         nan         nan         nan         nan]] [[       0        0        0        0        0]\n",
      " [       0  7500568        0  7501554        0]\n",
      " [       0        0 10000888        0        0]\n",
      " [       0  7501554        0  7502542        0]\n",
      " [       0        0        0        0        0]] [[      0       0       0       0       0]\n",
      " [      0 3750284       0 1250270       0]\n",
      " [      0       0 5000444       0       0]\n",
      " [      0 1250270       0 3751271       0]\n",
      " [      0       0       0       0       0]]\n"
     ]
    },
    {
     "name": "stderr",
     "output_type": "stream",
     "text": [
      "../../dmrt/diffTools.py:39: RuntimeWarning: invalid value encountered in true_divide\n",
      "  tms = tms/cts\n"
     ]
    }
   ],
   "source": [
    "length=10000000\n",
    "inp = np.random.rand(length,2)*4-2\n",
    "inp[:,0] = np.arange(length)*0.0001\n",
    "print(inp)\n",
    "dists,tms,cts,upts,distro = difft.compute(inp, mode='rtcrossdist',radii=[-2,-1,0,1,2],verb=True)\n",
    "print(dists,tms,cts,upts)"
   ]
  },
  {
   "cell_type": "code",
   "execution_count": 5,
   "metadata": {
    "collapsed": false
   },
   "outputs": [],
   "source": [
    "del difft"
   ]
  },
  {
   "cell_type": "code",
   "execution_count": 6,
   "metadata": {
    "collapsed": true
   },
   "outputs": [],
   "source": [
    "del inp, dists,tms,cts,upts,distro"
   ]
  },
  {
   "cell_type": "code",
   "execution_count": null,
   "metadata": {
    "collapsed": true
   },
   "outputs": [],
   "source": []
  }
 ],
 "metadata": {
  "kernelspec": {
   "display_name": "Python 3",
   "language": "python",
   "name": "python3"
  },
  "language_info": {
   "codemirror_mode": {
    "name": "ipython",
    "version": 3
   },
   "file_extension": ".py",
   "mimetype": "text/x-python",
   "name": "python",
   "nbconvert_exporter": "python",
   "pygments_lexer": "ipython3",
   "version": "3.5.3"
  },
  "varInspector": {
   "cols": {
    "lenName": 16,
    "lenType": 16,
    "lenVar": 40
   },
   "kernels_config": {
    "python": {
     "delete_cmd_postfix": "",
     "delete_cmd_prefix": "del ",
     "library": "var_list.py",
     "varRefreshCmd": "print(var_dic_list())"
    },
    "r": {
     "delete_cmd_postfix": ") ",
     "delete_cmd_prefix": "rm(",
     "library": "var_list.r",
     "varRefreshCmd": "cat(var_dic_list()) "
    }
   },
   "position": {
    "height": "546px",
    "left": "1544px",
    "right": "20px",
    "top": "120px",
    "width": "355px"
   },
   "types_to_exclude": [
    "module",
    "function",
    "builtin_function_or_method",
    "instance",
    "_Feature"
   ],
   "window_display": true
  }
 },
 "nbformat": 4,
 "nbformat_minor": 2
}
