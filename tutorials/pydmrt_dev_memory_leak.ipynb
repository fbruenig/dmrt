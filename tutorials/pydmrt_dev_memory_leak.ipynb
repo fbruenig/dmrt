{
 "cells": [
  {
   "cell_type": "code",
   "execution_count": 1,
   "metadata": {
    "ExecuteTime": {
     "end_time": "2018-11-21T16:56:27.118013Z",
     "start_time": "2018-11-21T16:56:27.110151Z"
    }
   },
   "outputs": [],
   "source": [
    "import sys\n",
    "sys.path.append('../../dmrt/')"
   ]
  },
  {
   "cell_type": "code",
   "execution_count": 2,
   "metadata": {
    "ExecuteTime": {
     "end_time": "2018-11-21T16:56:28.050959Z",
     "start_time": "2018-11-21T16:56:27.530260Z"
    }
   },
   "outputs": [],
   "source": [
    "import diffTools\n",
    "import numpy as np"
   ]
  },
  {
   "cell_type": "code",
   "execution_count": 3,
   "metadata": {
    "ExecuteTime": {
     "end_time": "2018-11-21T16:56:28.056056Z",
     "start_time": "2018-11-21T16:56:28.052885Z"
    }
   },
   "outputs": [],
   "source": [
    "difft = diffTools.DiffTools()"
   ]
  },
  {
   "cell_type": "code",
   "execution_count": 4,
   "metadata": {
    "ExecuteTime": {
     "end_time": "2018-11-21T16:56:31.911725Z",
     "start_time": "2018-11-21T16:56:28.815444Z"
    }
   },
   "outputs": [
    {
     "name": "stdout",
     "output_type": "stream",
     "text": [
      "[[ 0.00000000e+00  1.68488337e+00]\n",
      " [ 1.00000000e-04 -1.31000917e-01]\n",
      " [ 2.00000000e-04 -1.29244116e-01]\n",
      " ...\n",
      " [ 9.99999700e+02 -7.23642406e-01]\n",
      " [ 9.99999800e+02 -9.54941452e-01]\n",
      " [ 9.99999900e+02 -8.13301279e-01]]\n",
      "6 5 5 5 5\n",
      "[-2. -1.  0.  1.  2.] [[        nan         nan         nan         nan         nan]\n",
      " [        nan  0.                 nan -0.00071363         nan]\n",
      " [        nan         nan  0.                 nan         nan]\n",
      " [        nan  0.00071363         nan  0.                 nan]\n",
      " [        nan         nan         nan         nan         nan]] [[       0        0        0        0        0]\n",
      " [       0  7505136        0  7501776        0]\n",
      " [       0        0 10001032        0        0]\n",
      " [       0  7501776        0  7498420        0]\n",
      " [       0        0        0        0        0]] [[      0       0       0       0       0]\n",
      " [      0 3752568       0 1250284       0]\n",
      " [      0       0 5000516       0       0]\n",
      " [      0 1250285       0 3749210       0]\n",
      " [      0       0       0       0       0]]\n"
     ]
    },
    {
     "name": "stderr",
     "output_type": "stream",
     "text": [
      "../../dmrt/diffTools.py:39: RuntimeWarning: invalid value encountered in true_divide\n",
      "  tms = tms/cts\n"
     ]
    }
   ],
   "source": [
    "length=10000000\n",
    "inp = np.random.rand(length,2)*4-2\n",
    "inp[:,0] = np.arange(length)*0.0001\n",
    "print(inp)\n",
    "dists,tms,cts,upts,distro,tpdistro = difft.compute(inp, mode='rtcrossdist',radii=[-2,-1,0,1,2],verb=True)\n",
    "print(dists,tms,cts,upts)"
   ]
  },
  {
   "cell_type": "code",
   "execution_count": 5,
   "metadata": {
    "ExecuteTime": {
     "end_time": "2018-11-21T16:39:46.450870Z",
     "start_time": "2018-11-21T16:39:46.447674Z"
    }
   },
   "outputs": [],
   "source": [
    "del difft"
   ]
  },
  {
   "cell_type": "code",
   "execution_count": 6,
   "metadata": {
    "ExecuteTime": {
     "end_time": "2018-11-21T16:39:47.066770Z",
     "start_time": "2018-11-21T16:39:46.968559Z"
    }
   },
   "outputs": [],
   "source": [
    "del inp, dists,tms,cts,upts,distro"
   ]
  },
  {
   "cell_type": "code",
   "execution_count": null,
   "metadata": {
    "collapsed": true
   },
   "outputs": [],
   "source": []
  }
 ],
 "metadata": {
  "kernelspec": {
   "display_name": "Python 3",
   "language": "python",
   "name": "python3"
  },
  "language_info": {
   "codemirror_mode": {
    "name": "ipython",
    "version": 3
   },
   "file_extension": ".py",
   "mimetype": "text/x-python",
   "name": "python",
   "nbconvert_exporter": "python",
   "pygments_lexer": "ipython3",
   "version": "3.7.1"
  },
  "toc": {
   "colors": {
    "hover_highlight": "#DAA520",
    "running_highlight": "#FF0000",
    "selected_highlight": "#FFD700"
   },
   "moveMenuLeft": true,
   "nav_menu": {
    "height": "4px",
    "width": "254px"
   },
   "navigate_menu": true,
   "number_sections": true,
   "sideBar": true,
   "threshold": 4,
   "toc_cell": false,
   "toc_section_display": "block",
   "toc_window_display": false
  },
  "varInspector": {
   "cols": {
    "lenName": 16,
    "lenType": 16,
    "lenVar": 40
   },
   "kernels_config": {
    "python": {
     "delete_cmd_postfix": "",
     "delete_cmd_prefix": "del ",
     "library": "var_list.py",
     "varRefreshCmd": "print(var_dic_list())"
    },
    "r": {
     "delete_cmd_postfix": ") ",
     "delete_cmd_prefix": "rm(",
     "library": "var_list.r",
     "varRefreshCmd": "cat(var_dic_list()) "
    }
   },
   "position": {
    "height": "546px",
    "left": "1544px",
    "right": "20px",
    "top": "120px",
    "width": "355px"
   },
   "types_to_exclude": [
    "module",
    "function",
    "builtin_function_or_method",
    "instance",
    "_Feature"
   ],
   "window_display": true
  }
 },
 "nbformat": 4,
 "nbformat_minor": 2
}
