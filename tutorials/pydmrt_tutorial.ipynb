{
 "cells": [
  {
   "cell_type": "code",
   "execution_count": 11,
   "metadata": {
    "collapsed": true
   },
   "outputs": [],
   "source": [
    "import sys\n",
    "sys.path.append('../../dmrt/')\n",
    "sys.path.append('../../lange/')"
   ]
  },
  {
   "cell_type": "code",
   "execution_count": 12,
   "metadata": {
    "collapsed": true
   },
   "outputs": [],
   "source": [
    "import diffTools\n",
    "import numpy as np\n",
    "import matplotlib.pyplot as plt\n",
    "import pylange"
   ]
  },
  {
   "cell_type": "code",
   "execution_count": 23,
   "metadata": {
    "collapsed": false
   },
   "outputs": [
    {
     "name": "stdout",
     "output_type": "stream",
     "text": [
      "[-2.         -1.8974359  -1.79487179 -1.69230769 -1.58974359 -1.48717949\n",
      " -1.38461538 -1.28205128 -1.17948718 -1.07692308 -0.97435897 -0.87179487\n",
      " -0.76923077 -0.66666667 -0.56410256 -0.46153846 -0.35897436 -0.25641026\n",
      " -0.15384615 -0.05128205  0.05128205  0.15384615  0.25641026  0.35897436\n",
      "  0.46153846  0.56410256  0.66666667  0.76923077  0.87179487  0.97435897\n",
      "  1.07692308  1.17948718  1.28205128  1.38461538  1.48717949  1.58974359\n",
      "  1.69230769  1.79487179  1.8974359   2.        ]\n"
     ]
    }
   ],
   "source": [
    "difft = diffTools.DiffTools()\n",
    "inp = pylange.lange(P=6,N=1,m=1,G=1, dt=0.01)\n",
    "radii=np.linspace(-2,2,40)\n",
    "print(radii)"
   ]
  },
  {
   "cell_type": "code",
   "execution_count": 24,
   "metadata": {
    "collapsed": false
   },
   "outputs": [
    {
     "name": "stdout",
     "output_type": "stream",
     "text": [
      "[[          nan           nan           nan ...           nan\n",
      "            nan           nan]\n",
      " [          nan           nan           nan ...           nan\n",
      "            nan           nan]\n",
      " [          nan           nan    0.         ...  173.00637421\n",
      "  1813.61045702           nan]\n",
      " ...\n",
      " [          nan           nan  383.49240746 ...    0.\n",
      "            nan           nan]\n",
      " [          nan           nan  154.20982995 ...           nan\n",
      "     0.                   nan]\n",
      " [          nan           nan           nan ...           nan\n",
      "            nan           nan]] [[ 0  0  0 ...  0  0  0]\n",
      " [ 0  0  0 ...  0  0  0]\n",
      " [ 0  0 20 ... 20  8  0]\n",
      " ...\n",
      " [ 0  0 26 ... 28  0  0]\n",
      " [ 0  0  2 ...  0  2  0]\n",
      " [ 0  0  0 ...  0  0  0]] [[ 0  0  0 ...  0  0  0]\n",
      " [ 0  0  0 ...  0  0  0]\n",
      " [ 0  0 20 ...  8  1  0]\n",
      " ...\n",
      " [ 0  0  7 ... 28  0  0]\n",
      " [ 0  0  1 ...  0  2  0]\n",
      " [ 0  0  0 ...  0  0  0]]\n"
     ]
    },
    {
     "name": "stderr",
     "output_type": "stream",
     "text": [
      "../../dmrt/diffTools.py:39: RuntimeWarning: invalid value encountered in true_divide\n",
      "  tms = tms/cts\n"
     ]
    }
   ],
   "source": [
    "dists,tms,cts,upts = difft.compute(inp[:,:2], mode='mfptcross',radii=radii,verb=True)\n",
    "print(tms,cts,upts)"
   ]
  },
  {
   "cell_type": "code",
   "execution_count": 44,
   "metadata": {
    "collapsed": false
   },
   "outputs": [
    {
     "data": {
      "image/png": "[encoded data removed]",
      "text/plain": [
       "<Figure size 432x288 with 1 Axes>"
      ]
     },
     "metadata": {},
     "output_type": "display_data"
    },
    {
     "data": {
      "image/png": "[encoded data removed]",
      "text/plain": [
       "<Figure size 432x288 with 1 Axes>"
      ]
     },
     "metadata": {},
     "output_type": "display_data"
    }
   ],
   "source": [
    "# Inertial Effekte erzeugen schnellere mftps an steilen reflektierenden Grenzen\n",
    "\n",
    "# MFPTs mit variablen x_ini (und festem x_final)\n",
    "plt.plot(dists[3:-3],tms.T[10,3:-3])\n",
    "#plt.plot(dists[3:-3],tms.T[-10,3:-3])\n",
    "plt.show()\n",
    "\n",
    "# MFPTs mit variablen x_final (und festem x_ini)\n",
    "plt.plot(dists[3:-3],tms[10,3:-3])\n",
    "#plt.plot(dists[3:-3],tms[-10,3:-3])\n",
    "plt.show()"
   ]
  },
  {
   "cell_type": "code",
   "execution_count": null,
   "metadata": {
    "collapsed": true
   },
   "outputs": [],
   "source": [
    "tms"
   ]
  }
 ],
 "metadata": {
  "kernelspec": {
   "display_name": "Python 3",
   "language": "python",
   "name": "python3"
  },
  "language_info": {
   "codemirror_mode": {
    "name": "ipython",
    "version": 3
   },
   "file_extension": ".py",
   "mimetype": "text/x-python",
   "name": "python",
   "nbconvert_exporter": "python",
   "pygments_lexer": "ipython3",
   "version": "3.5.3"
  },
  "varInspector": {
   "cols": {
    "lenName": 16,
    "lenType": 16,
    "lenVar": 40
   },
   "kernels_config": {
    "python": {
     "delete_cmd_postfix": "",
     "delete_cmd_prefix": "del ",
     "library": "var_list.py",
     "varRefreshCmd": "print(var_dic_list())"
    },
    "r": {
     "delete_cmd_postfix": ") ",
     "delete_cmd_prefix": "rm(",
     "library": "var_list.r",
     "varRefreshCmd": "cat(var_dic_list()) "
    }
   },
   "position": {
    "height": "546px",
    "left": "1544px",
    "right": "20px",
    "top": "120px",
    "width": "355px"
   },
   "types_to_exclude": [
    "module",
    "function",
    "builtin_function_or_method",
    "instance",
    "_Feature"
   ],
   "window_display": true
  }
 },
 "nbformat": 4,
 "nbformat_minor": 2
}
